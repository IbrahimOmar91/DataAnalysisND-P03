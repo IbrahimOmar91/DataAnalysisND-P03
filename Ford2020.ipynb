{
 "cells": [
  {
   "cell_type": "code",
   "execution_count": 73,
   "metadata": {},
   "outputs": [],
   "source": [
    "from glob import glob\n",
    "import pandas as pd"
   ]
  },
  {
   "cell_type": "markdown",
   "metadata": {},
   "source": [
    "## Read Files"
   ]
  },
  {
   "cell_type": "code",
   "execution_count": 74,
   "metadata": {},
   "outputs": [],
   "source": [
    "files = glob('../Data/2020/*.csv')\n",
    "data = [pd.read_csv(f, low_memory=False) for f in files]"
   ]
  },
  {
   "cell_type": "code",
   "execution_count": 75,
   "metadata": {},
   "outputs": [],
   "source": [
    "data = pd.concat(data, ignore_index=True)"
   ]
  },
  {
   "cell_type": "code",
   "execution_count": 76,
   "metadata": {},
   "outputs": [
    {
     "data": {
      "text/html": [
       "<div>\n",
       "<style scoped>\n",
       "    .dataframe tbody tr th:only-of-type {\n",
       "        vertical-align: middle;\n",
       "    }\n",
       "\n",
       "    .dataframe tbody tr th {\n",
       "        vertical-align: top;\n",
       "    }\n",
       "\n",
       "    .dataframe thead th {\n",
       "        text-align: right;\n",
       "    }\n",
       "</style>\n",
       "<table border=\"1\" class=\"dataframe\">\n",
       "  <thead>\n",
       "    <tr style=\"text-align: right;\">\n",
       "      <th></th>\n",
       "      <th>duration_sec</th>\n",
       "      <th>start_time</th>\n",
       "      <th>end_time</th>\n",
       "      <th>start_station_id</th>\n",
       "      <th>start_station_name</th>\n",
       "      <th>start_station_latitude</th>\n",
       "      <th>start_station_longitude</th>\n",
       "      <th>end_station_id</th>\n",
       "      <th>end_station_name</th>\n",
       "      <th>end_station_latitude</th>\n",
       "      <th>...</th>\n",
       "      <th>ride_id</th>\n",
       "      <th>rideable_type</th>\n",
       "      <th>started_at</th>\n",
       "      <th>ended_at</th>\n",
       "      <th>start_lat</th>\n",
       "      <th>start_lng</th>\n",
       "      <th>end_lat</th>\n",
       "      <th>end_lng</th>\n",
       "      <th>member_casual</th>\n",
       "      <th>is_equity</th>\n",
       "    </tr>\n",
       "  </thead>\n",
       "  <tbody>\n",
       "    <tr>\n",
       "      <th>0</th>\n",
       "      <td>83118.0</td>\n",
       "      <td>2020-01-31 15:23:47.7330</td>\n",
       "      <td>2020-02-01 14:29:06.2630</td>\n",
       "      <td>400.0</td>\n",
       "      <td>Buchanan St at North Point St</td>\n",
       "      <td>37.804272</td>\n",
       "      <td>-122.433537</td>\n",
       "      <td>400.0</td>\n",
       "      <td>Buchanan St at North Point St</td>\n",
       "      <td>37.804272</td>\n",
       "      <td>...</td>\n",
       "      <td>NaN</td>\n",
       "      <td>NaN</td>\n",
       "      <td>NaN</td>\n",
       "      <td>NaN</td>\n",
       "      <td>NaN</td>\n",
       "      <td>NaN</td>\n",
       "      <td>NaN</td>\n",
       "      <td>NaN</td>\n",
       "      <td>NaN</td>\n",
       "      <td>NaN</td>\n",
       "    </tr>\n",
       "    <tr>\n",
       "      <th>1</th>\n",
       "      <td>68239.0</td>\n",
       "      <td>2020-01-31 15:40:31.6160</td>\n",
       "      <td>2020-02-01 10:37:51.0000</td>\n",
       "      <td>99.0</td>\n",
       "      <td>Folsom St at 15th St</td>\n",
       "      <td>37.767037</td>\n",
       "      <td>-122.415443</td>\n",
       "      <td>99.0</td>\n",
       "      <td>Folsom St at 15th St</td>\n",
       "      <td>37.767037</td>\n",
       "      <td>...</td>\n",
       "      <td>NaN</td>\n",
       "      <td>NaN</td>\n",
       "      <td>NaN</td>\n",
       "      <td>NaN</td>\n",
       "      <td>NaN</td>\n",
       "      <td>NaN</td>\n",
       "      <td>NaN</td>\n",
       "      <td>NaN</td>\n",
       "      <td>NaN</td>\n",
       "      <td>NaN</td>\n",
       "    </tr>\n",
       "    <tr>\n",
       "      <th>2</th>\n",
       "      <td>55407.0</td>\n",
       "      <td>2020-01-31 17:48:16.6350</td>\n",
       "      <td>2020-02-01 09:11:44.3170</td>\n",
       "      <td>197.0</td>\n",
       "      <td>El Embarcadero at Grand Ave</td>\n",
       "      <td>37.808848</td>\n",
       "      <td>-122.249680</td>\n",
       "      <td>197.0</td>\n",
       "      <td>El Embarcadero at Grand Ave</td>\n",
       "      <td>37.808848</td>\n",
       "      <td>...</td>\n",
       "      <td>NaN</td>\n",
       "      <td>NaN</td>\n",
       "      <td>NaN</td>\n",
       "      <td>NaN</td>\n",
       "      <td>NaN</td>\n",
       "      <td>NaN</td>\n",
       "      <td>NaN</td>\n",
       "      <td>NaN</td>\n",
       "      <td>NaN</td>\n",
       "      <td>NaN</td>\n",
       "    </tr>\n",
       "    <tr>\n",
       "      <th>3</th>\n",
       "      <td>54929.0</td>\n",
       "      <td>2020-01-31 17:53:03.4130</td>\n",
       "      <td>2020-02-01 09:08:32.6340</td>\n",
       "      <td>197.0</td>\n",
       "      <td>El Embarcadero at Grand Ave</td>\n",
       "      <td>37.808848</td>\n",
       "      <td>-122.249680</td>\n",
       "      <td>197.0</td>\n",
       "      <td>El Embarcadero at Grand Ave</td>\n",
       "      <td>37.808848</td>\n",
       "      <td>...</td>\n",
       "      <td>NaN</td>\n",
       "      <td>NaN</td>\n",
       "      <td>NaN</td>\n",
       "      <td>NaN</td>\n",
       "      <td>NaN</td>\n",
       "      <td>NaN</td>\n",
       "      <td>NaN</td>\n",
       "      <td>NaN</td>\n",
       "      <td>NaN</td>\n",
       "      <td>NaN</td>\n",
       "    </tr>\n",
       "    <tr>\n",
       "      <th>4</th>\n",
       "      <td>55700.0</td>\n",
       "      <td>2020-01-31 17:12:33.4600</td>\n",
       "      <td>2020-02-01 08:40:53.6460</td>\n",
       "      <td>12.0</td>\n",
       "      <td>Pier 1/2 at The Embarcadero</td>\n",
       "      <td>37.796389</td>\n",
       "      <td>-122.394586</td>\n",
       "      <td>371.0</td>\n",
       "      <td>Lombard St at Columbus Ave</td>\n",
       "      <td>37.802746</td>\n",
       "      <td>...</td>\n",
       "      <td>NaN</td>\n",
       "      <td>NaN</td>\n",
       "      <td>NaN</td>\n",
       "      <td>NaN</td>\n",
       "      <td>NaN</td>\n",
       "      <td>NaN</td>\n",
       "      <td>NaN</td>\n",
       "      <td>NaN</td>\n",
       "      <td>NaN</td>\n",
       "      <td>NaN</td>\n",
       "    </tr>\n",
       "  </tbody>\n",
       "</table>\n",
       "<p>5 rows × 24 columns</p>\n",
       "</div>"
      ],
      "text/plain": [
       "   duration_sec                start_time                  end_time  \\\n",
       "0       83118.0  2020-01-31 15:23:47.7330  2020-02-01 14:29:06.2630   \n",
       "1       68239.0  2020-01-31 15:40:31.6160  2020-02-01 10:37:51.0000   \n",
       "2       55407.0  2020-01-31 17:48:16.6350  2020-02-01 09:11:44.3170   \n",
       "3       54929.0  2020-01-31 17:53:03.4130  2020-02-01 09:08:32.6340   \n",
       "4       55700.0  2020-01-31 17:12:33.4600  2020-02-01 08:40:53.6460   \n",
       "\n",
       "   start_station_id             start_station_name  start_station_latitude  \\\n",
       "0             400.0  Buchanan St at North Point St               37.804272   \n",
       "1              99.0           Folsom St at 15th St               37.767037   \n",
       "2             197.0    El Embarcadero at Grand Ave               37.808848   \n",
       "3             197.0    El Embarcadero at Grand Ave               37.808848   \n",
       "4              12.0    Pier 1/2 at The Embarcadero               37.796389   \n",
       "\n",
       "   start_station_longitude  end_station_id               end_station_name  \\\n",
       "0              -122.433537           400.0  Buchanan St at North Point St   \n",
       "1              -122.415443            99.0           Folsom St at 15th St   \n",
       "2              -122.249680           197.0    El Embarcadero at Grand Ave   \n",
       "3              -122.249680           197.0    El Embarcadero at Grand Ave   \n",
       "4              -122.394586           371.0     Lombard St at Columbus Ave   \n",
       "\n",
       "   end_station_latitude  ...  ride_id  rideable_type started_at ended_at  \\\n",
       "0             37.804272  ...      NaN            NaN        NaN      NaN   \n",
       "1             37.767037  ...      NaN            NaN        NaN      NaN   \n",
       "2             37.808848  ...      NaN            NaN        NaN      NaN   \n",
       "3             37.808848  ...      NaN            NaN        NaN      NaN   \n",
       "4             37.802746  ...      NaN            NaN        NaN      NaN   \n",
       "\n",
       "  start_lat start_lng end_lat end_lng  member_casual  is_equity  \n",
       "0       NaN       NaN     NaN     NaN            NaN        NaN  \n",
       "1       NaN       NaN     NaN     NaN            NaN        NaN  \n",
       "2       NaN       NaN     NaN     NaN            NaN        NaN  \n",
       "3       NaN       NaN     NaN     NaN            NaN        NaN  \n",
       "4       NaN       NaN     NaN     NaN            NaN        NaN  \n",
       "\n",
       "[5 rows x 24 columns]"
      ]
     },
     "execution_count": 76,
     "metadata": {},
     "output_type": "execute_result"
    }
   ],
   "source": [
    "data.head()"
   ]
  },
  {
   "cell_type": "code",
   "execution_count": 77,
   "metadata": {},
   "outputs": [
    {
     "data": {
      "text/plain": [
       "(1440652, 24)"
      ]
     },
     "execution_count": 77,
     "metadata": {},
     "output_type": "execute_result"
    }
   ],
   "source": [
    "data.shape"
   ]
  },
  {
   "cell_type": "code",
   "execution_count": 78,
   "metadata": {},
   "outputs": [
    {
     "name": "stdout",
     "output_type": "stream",
     "text": [
      "<class 'pandas.core.frame.DataFrame'>\n",
      "RangeIndex: 1440652 entries, 0 to 1440651\n",
      "Data columns (total 24 columns):\n",
      " #   Column                   Non-Null Count   Dtype  \n",
      "---  ------                   --------------   -----  \n",
      " 0   duration_sec             905007 non-null  float64\n",
      " 1   start_time               905007 non-null  object \n",
      " 2   end_time                 905007 non-null  object \n",
      " 3   start_station_id         761263 non-null  float64\n",
      " 4   start_station_name       762496 non-null  object \n",
      " 5   start_station_latitude   905007 non-null  float64\n",
      " 6   start_station_longitude  905007 non-null  float64\n",
      " 7   end_station_id           753420 non-null  float64\n",
      " 8   end_station_name         754694 non-null  object \n",
      " 9   end_station_latitude     905007 non-null  float64\n",
      " 10  end_station_longitude    905007 non-null  float64\n",
      " 11  bike_id                  905007 non-null  float64\n",
      " 12  user_type                905007 non-null  object \n",
      " 13  rental_access_method     617858 non-null  object \n",
      " 14  ride_id                  535645 non-null  object \n",
      " 15  rideable_type            535645 non-null  object \n",
      " 16  started_at               535645 non-null  object \n",
      " 17  ended_at                 535645 non-null  object \n",
      " 18  start_lat                535645 non-null  float64\n",
      " 19  start_lng                535645 non-null  float64\n",
      " 20  end_lat                  534807 non-null  float64\n",
      " 21  end_lng                  534807 non-null  float64\n",
      " 22  member_casual            535645 non-null  object \n",
      " 23  is_equity                138251 non-null  object \n",
      "dtypes: float64(12), object(12)\n",
      "memory usage: 263.8+ MB\n"
     ]
    }
   ],
   "source": [
    "data.info()"
   ]
  },
  {
   "cell_type": "code",
   "execution_count": 79,
   "metadata": {},
   "outputs": [
    {
     "data": {
      "text/html": [
       "<div>\n",
       "<style scoped>\n",
       "    .dataframe tbody tr th:only-of-type {\n",
       "        vertical-align: middle;\n",
       "    }\n",
       "\n",
       "    .dataframe tbody tr th {\n",
       "        vertical-align: top;\n",
       "    }\n",
       "\n",
       "    .dataframe thead th {\n",
       "        text-align: right;\n",
       "    }\n",
       "</style>\n",
       "<table border=\"1\" class=\"dataframe\">\n",
       "  <thead>\n",
       "    <tr style=\"text-align: right;\">\n",
       "      <th></th>\n",
       "      <th>duration_sec</th>\n",
       "      <th>start_station_id</th>\n",
       "      <th>start_station_latitude</th>\n",
       "      <th>start_station_longitude</th>\n",
       "      <th>end_station_id</th>\n",
       "      <th>end_station_latitude</th>\n",
       "      <th>end_station_longitude</th>\n",
       "      <th>bike_id</th>\n",
       "      <th>start_lat</th>\n",
       "      <th>start_lng</th>\n",
       "      <th>end_lat</th>\n",
       "      <th>end_lng</th>\n",
       "    </tr>\n",
       "  </thead>\n",
       "  <tbody>\n",
       "    <tr>\n",
       "      <th>count</th>\n",
       "      <td>905007.000000</td>\n",
       "      <td>761263.000000</td>\n",
       "      <td>905007.000000</td>\n",
       "      <td>905007.000000</td>\n",
       "      <td>753420.000000</td>\n",
       "      <td>905007.000000</td>\n",
       "      <td>905007.000000</td>\n",
       "      <td>905007.000000</td>\n",
       "      <td>535645.000000</td>\n",
       "      <td>535645.000000</td>\n",
       "      <td>534807.000000</td>\n",
       "      <td>534807.000000</td>\n",
       "    </tr>\n",
       "    <tr>\n",
       "      <th>mean</th>\n",
       "      <td>806.783430</td>\n",
       "      <td>197.760419</td>\n",
       "      <td>37.747956</td>\n",
       "      <td>-122.356863</td>\n",
       "      <td>192.369365</td>\n",
       "      <td>37.747504</td>\n",
       "      <td>-122.354743</td>\n",
       "      <td>345257.165427</td>\n",
       "      <td>37.725255</td>\n",
       "      <td>-122.346671</td>\n",
       "      <td>37.725249</td>\n",
       "      <td>-122.345629</td>\n",
       "    </tr>\n",
       "    <tr>\n",
       "      <th>std</th>\n",
       "      <td>1651.803494</td>\n",
       "      <td>159.500886</td>\n",
       "      <td>0.229245</td>\n",
       "      <td>0.646076</td>\n",
       "      <td>159.251561</td>\n",
       "      <td>0.270214</td>\n",
       "      <td>0.795225</td>\n",
       "      <td>305503.123238</td>\n",
       "      <td>0.147924</td>\n",
       "      <td>0.178430</td>\n",
       "      <td>0.147991</td>\n",
       "      <td>0.357225</td>\n",
       "    </tr>\n",
       "    <tr>\n",
       "      <th>min</th>\n",
       "      <td>60.000000</td>\n",
       "      <td>3.000000</td>\n",
       "      <td>0.000000</td>\n",
       "      <td>-122.514230</td>\n",
       "      <td>3.000000</td>\n",
       "      <td>0.000000</td>\n",
       "      <td>-122.575763</td>\n",
       "      <td>12.000000</td>\n",
       "      <td>37.239200</td>\n",
       "      <td>-122.514300</td>\n",
       "      <td>37.004600</td>\n",
       "      <td>-122.559000</td>\n",
       "    </tr>\n",
       "    <tr>\n",
       "      <th>25%</th>\n",
       "      <td>370.000000</td>\n",
       "      <td>61.000000</td>\n",
       "      <td>37.765281</td>\n",
       "      <td>-122.420664</td>\n",
       "      <td>58.000000</td>\n",
       "      <td>37.765464</td>\n",
       "      <td>-122.419957</td>\n",
       "      <td>12114.000000</td>\n",
       "      <td>37.760000</td>\n",
       "      <td>-122.432500</td>\n",
       "      <td>37.760000</td>\n",
       "      <td>-122.432100</td>\n",
       "    </tr>\n",
       "    <tr>\n",
       "      <th>50%</th>\n",
       "      <td>595.000000</td>\n",
       "      <td>134.000000</td>\n",
       "      <td>37.776972</td>\n",
       "      <td>-122.404635</td>\n",
       "      <td>129.000000</td>\n",
       "      <td>37.777062</td>\n",
       "      <td>-122.403681</td>\n",
       "      <td>326439.000000</td>\n",
       "      <td>37.773600</td>\n",
       "      <td>-122.411900</td>\n",
       "      <td>37.773532</td>\n",
       "      <td>-122.411900</td>\n",
       "    </tr>\n",
       "    <tr>\n",
       "      <th>75%</th>\n",
       "      <td>932.000000</td>\n",
       "      <td>350.000000</td>\n",
       "      <td>37.789914</td>\n",
       "      <td>-122.392741</td>\n",
       "      <td>343.000000</td>\n",
       "      <td>37.790229</td>\n",
       "      <td>-122.392741</td>\n",
       "      <td>557460.000000</td>\n",
       "      <td>37.787639</td>\n",
       "      <td>-122.390800</td>\n",
       "      <td>37.788100</td>\n",
       "      <td>-122.390800</td>\n",
       "    </tr>\n",
       "    <tr>\n",
       "      <th>max</th>\n",
       "      <td>811077.000000</td>\n",
       "      <td>534.000000</td>\n",
       "      <td>37.880222</td>\n",
       "      <td>0.000000</td>\n",
       "      <td>534.000000</td>\n",
       "      <td>37.995942</td>\n",
       "      <td>0.000000</td>\n",
       "      <td>999960.000000</td>\n",
       "      <td>37.880222</td>\n",
       "      <td>-121.770000</td>\n",
       "      <td>37.962100</td>\n",
       "      <td>-42.344893</td>\n",
       "    </tr>\n",
       "  </tbody>\n",
       "</table>\n",
       "</div>"
      ],
      "text/plain": [
       "        duration_sec  start_station_id  start_station_latitude  \\\n",
       "count  905007.000000     761263.000000           905007.000000   \n",
       "mean      806.783430        197.760419               37.747956   \n",
       "std      1651.803494        159.500886                0.229245   \n",
       "min        60.000000          3.000000                0.000000   \n",
       "25%       370.000000         61.000000               37.765281   \n",
       "50%       595.000000        134.000000               37.776972   \n",
       "75%       932.000000        350.000000               37.789914   \n",
       "max    811077.000000        534.000000               37.880222   \n",
       "\n",
       "       start_station_longitude  end_station_id  end_station_latitude  \\\n",
       "count            905007.000000   753420.000000         905007.000000   \n",
       "mean               -122.356863      192.369365             37.747504   \n",
       "std                   0.646076      159.251561              0.270214   \n",
       "min                -122.514230        3.000000              0.000000   \n",
       "25%                -122.420664       58.000000             37.765464   \n",
       "50%                -122.404635      129.000000             37.777062   \n",
       "75%                -122.392741      343.000000             37.790229   \n",
       "max                   0.000000      534.000000             37.995942   \n",
       "\n",
       "       end_station_longitude        bike_id      start_lat      start_lng  \\\n",
       "count          905007.000000  905007.000000  535645.000000  535645.000000   \n",
       "mean             -122.354743  345257.165427      37.725255    -122.346671   \n",
       "std                 0.795225  305503.123238       0.147924       0.178430   \n",
       "min              -122.575763      12.000000      37.239200    -122.514300   \n",
       "25%              -122.419957   12114.000000      37.760000    -122.432500   \n",
       "50%              -122.403681  326439.000000      37.773600    -122.411900   \n",
       "75%              -122.392741  557460.000000      37.787639    -122.390800   \n",
       "max                 0.000000  999960.000000      37.880222    -121.770000   \n",
       "\n",
       "             end_lat        end_lng  \n",
       "count  534807.000000  534807.000000  \n",
       "mean       37.725249    -122.345629  \n",
       "std         0.147991       0.357225  \n",
       "min        37.004600    -122.559000  \n",
       "25%        37.760000    -122.432100  \n",
       "50%        37.773532    -122.411900  \n",
       "75%        37.788100    -122.390800  \n",
       "max        37.962100     -42.344893  "
      ]
     },
     "execution_count": 79,
     "metadata": {},
     "output_type": "execute_result"
    }
   ],
   "source": [
    "data.describe()"
   ]
  },
  {
   "cell_type": "code",
   "execution_count": 80,
   "metadata": {},
   "outputs": [
    {
     "data": {
      "text/plain": [
       "duration_sec                535645\n",
       "start_time                  535645\n",
       "end_time                    535645\n",
       "start_station_id            679389\n",
       "start_station_name          678156\n",
       "start_station_latitude      535645\n",
       "start_station_longitude     535645\n",
       "end_station_id              687232\n",
       "end_station_name            685958\n",
       "end_station_latitude        535645\n",
       "end_station_longitude       535645\n",
       "bike_id                     535645\n",
       "user_type                   535645\n",
       "rental_access_method        822794\n",
       "ride_id                     905007\n",
       "rideable_type               905007\n",
       "started_at                  905007\n",
       "ended_at                    905007\n",
       "start_lat                   905007\n",
       "start_lng                   905007\n",
       "end_lat                     905845\n",
       "end_lng                     905845\n",
       "member_casual               905007\n",
       "is_equity                  1302401\n",
       "dtype: int64"
      ]
     },
     "execution_count": 80,
     "metadata": {},
     "output_type": "execute_result"
    }
   ],
   "source": [
    "data.isna().sum()"
   ]
  },
  {
   "cell_type": "code",
   "execution_count": 81,
   "metadata": {},
   "outputs": [
    {
     "data": {
      "text/plain": [
       "7512"
      ]
     },
     "execution_count": 81,
     "metadata": {},
     "output_type": "execute_result"
    }
   ],
   "source": [
    "data.duplicated().sum()"
   ]
  },
  {
   "cell_type": "code",
   "execution_count": 82,
   "metadata": {},
   "outputs": [
    {
     "data": {
      "text/plain": [
       "Subscriber    544696\n",
       "Customer      360311\n",
       "Name: user_type, dtype: int64"
      ]
     },
     "execution_count": 82,
     "metadata": {},
     "output_type": "execute_result"
    }
   ],
   "source": [
    "data.user_type.value_counts()"
   ]
  },
  {
   "cell_type": "code",
   "execution_count": 83,
   "metadata": {},
   "outputs": [
    {
     "data": {
      "text/plain": [
       "1302401"
      ]
     },
     "execution_count": 83,
     "metadata": {},
     "output_type": "execute_result"
    }
   ],
   "source": [
    "max(data.isna().sum())"
   ]
  },
  {
   "cell_type": "markdown",
   "metadata": {},
   "source": [
    "# Clean Data"
   ]
  },
  {
   "cell_type": "code",
   "execution_count": 90,
   "metadata": {},
   "outputs": [],
   "source": [
    "df = data.copy()"
   ]
  },
  {
   "cell_type": "code",
   "execution_count": 91,
   "metadata": {},
   "outputs": [],
   "source": [
    "df.drop(columns=['start_station_latitude', 'start_station_longitude',\n",
    "                 'end_station_latitude', 'end_station_longitude',\n",
    "                 'start_station_name', 'end_station_name',\n",
    "                 'start_lat', 'start_lng',\n",
    "                 'end_lat', 'end_lng',\n",
    "                 'is_equity'], inplace=True)"
   ]
  },
  {
   "cell_type": "code",
   "execution_count": 92,
   "metadata": {},
   "outputs": [
    {
     "name": "stdout",
     "output_type": "stream",
     "text": [
      "<class 'pandas.core.frame.DataFrame'>\n",
      "RangeIndex: 1440652 entries, 0 to 1440651\n",
      "Data columns (total 13 columns):\n",
      " #   Column                Non-Null Count   Dtype  \n",
      "---  ------                --------------   -----  \n",
      " 0   duration_sec          905007 non-null  float64\n",
      " 1   start_time            905007 non-null  object \n",
      " 2   end_time              905007 non-null  object \n",
      " 3   start_station_id      761263 non-null  float64\n",
      " 4   end_station_id        753420 non-null  float64\n",
      " 5   bike_id               905007 non-null  float64\n",
      " 6   user_type             905007 non-null  object \n",
      " 7   rental_access_method  617858 non-null  object \n",
      " 8   ride_id               535645 non-null  object \n",
      " 9   rideable_type         535645 non-null  object \n",
      " 10  started_at            535645 non-null  object \n",
      " 11  ended_at              535645 non-null  object \n",
      " 12  member_casual         535645 non-null  object \n",
      "dtypes: float64(4), object(9)\n",
      "memory usage: 142.9+ MB\n"
     ]
    }
   ],
   "source": [
    "df.info()"
   ]
  },
  {
   "cell_type": "code",
   "execution_count": 93,
   "metadata": {},
   "outputs": [],
   "source": [
    "df['start_time'] = pd.to_datetime(df['start_time'])\n",
    "df['end_time']   = pd.to_datetime(df['end_time'])\n",
    "df['started_at'] = pd.to_datetime(df['started_at'])\n",
    "df['ended_at']   = pd.to_datetime(df['ended_at'])"
   ]
  },
  {
   "cell_type": "code",
   "execution_count": 96,
   "metadata": {},
   "outputs": [],
   "source": [
    "df['month'] = df['start_time'].dt.strftime('%m')\n",
    "df['day']   = df['start_time'].dt.strftime('%d')\n",
    "df['hour']  = df['start_time'].dt.strftime('%H')\n",
    "df['day_of_week'] = df['start_time'].dt.strftime('%a')"
   ]
  },
  {
   "cell_type": "code",
   "execution_count": 105,
   "metadata": {},
   "outputs": [
    {
     "name": "stdout",
     "output_type": "stream",
     "text": [
      "<class 'pandas.core.frame.DataFrame'>\n",
      "RangeIndex: 1440652 entries, 0 to 1440651\n",
      "Data columns (total 17 columns):\n",
      " #   Column                Non-Null Count   Dtype         \n",
      "---  ------                --------------   -----         \n",
      " 0   duration_sec          905007 non-null  float64       \n",
      " 1   start_time            905007 non-null  datetime64[ns]\n",
      " 2   end_time              905007 non-null  datetime64[ns]\n",
      " 3   start_station_id      761263 non-null  float64       \n",
      " 4   end_station_id        753420 non-null  float64       \n",
      " 5   bike_id               905007 non-null  float64       \n",
      " 6   user_type             905007 non-null  object        \n",
      " 7   rental_access_method  617858 non-null  object        \n",
      " 8   ride_id               535645 non-null  object        \n",
      " 9   rideable_type         535645 non-null  object        \n",
      " 10  started_at            535645 non-null  datetime64[ns]\n",
      " 11  ended_at              535645 non-null  datetime64[ns]\n",
      " 12  member_casual         535645 non-null  object        \n",
      " 13  month                 905007 non-null  object        \n",
      " 14  day                   905007 non-null  object        \n",
      " 15  hour                  905007 non-null  object        \n",
      " 16  day_of_week           905007 non-null  object        \n",
      "dtypes: datetime64[ns](4), float64(4), object(9)\n",
      "memory usage: 186.9+ MB\n"
     ]
    }
   ],
   "source": [
    "df.info()"
   ]
  },
  {
   "cell_type": "code",
   "execution_count": null,
   "metadata": {},
   "outputs": [],
   "source": []
  }
 ],
 "metadata": {
  "kernelspec": {
   "display_name": "Python 3",
   "language": "python",
   "name": "python3"
  },
  "language_info": {
   "codemirror_mode": {
    "name": "ipython",
    "version": 3
   },
   "file_extension": ".py",
   "mimetype": "text/x-python",
   "name": "python",
   "nbconvert_exporter": "python",
   "pygments_lexer": "ipython3",
   "version": "3.7.9"
  }
 },
 "nbformat": 4,
 "nbformat_minor": 4
}
